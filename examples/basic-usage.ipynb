{
 "cells": [
  {
   "cell_type": "code",
   "execution_count": null,
   "id": "7f5e0656-0525-487f-b9d8-a61b8a4dcce7",
   "metadata": {},
   "outputs": [],
   "source": [
    ":dep polars = {version = \"0.34.2\", features = [\"csv\"]}"
   ]
  },
  {
   "cell_type": "code",
   "execution_count": null,
   "id": "e5778901-883f-4ccf-aaec-48ea92f266ec",
   "metadata": {},
   "outputs": [],
   "source": [
    ":dep polars-ai = { path = \"../\" }"
   ]
  },
  {
   "cell_type": "code",
   "execution_count": null,
   "id": "0cb77411-5481-4321-85f5-d4cbf7a419db",
   "metadata": {},
   "outputs": [],
   "source": [
    "use polars::prelude::*;"
   ]
  },
  {
   "cell_type": "markdown",
   "id": "14187471-5dc8-4aaa-bdf5-04978e8725f4",
   "metadata": {},
   "source": [
    "## Polars"
   ]
  },
  {
   "cell_type": "code",
   "execution_count": null,
   "id": "3a29edd7-35b5-4cf3-ae66-6eb1b6dc1d84",
   "metadata": {
    "scrolled": true
   },
   "outputs": [],
   "source": [
    "let df_result = CsvReader::from_path(\"./datasets/flights.csv\").unwrap().finish();\n",
    "let polars_df = df_result.unwrap();\n",
    "polars_df.head(None)"
   ]
  },
  {
   "cell_type": "markdown",
   "id": "d988d046-5176-40bb-a5c0-2c08ce87b5ea",
   "metadata": {},
   "source": [
    "## Shell Command Execution"
   ]
  },
  {
   "cell_type": "code",
   "execution_count": 2,
   "id": "9eb98b66-9a35-4e3e-acca-f478e323c26d",
   "metadata": {},
   "outputs": [],
   "source": [
    "use std::process::{Command, Output, Stdio};\n",
    "\n",
    "// A helper function to execute a shell command from a Rust script\n",
    "fn execute_command(command: &str) -> Result<(), std::io::Error> {\n",
    "    let status = Command::new(\"bash\")\n",
    "        .arg(\"-c\")\n",
    "        .arg(command)\n",
    "        .stderr(Stdio::inherit())\n",
    "        .status()?;\n",
    "\n",
    "    if status.success() {\n",
    "        Ok(())\n",
    "    } else {\n",
    "        Err(std::io::Error::from_raw_os_error(status.code().unwrap_or(1)))\n",
    "    }\n",
    "}"
   ]
  },
  {
   "cell_type": "markdown",
   "id": "e87522c7-6906-4f5e-8032-c7f25a4142b5",
   "metadata": {},
   "source": [
    "## Polars AI CLI"
   ]
  },
  {
   "cell_type": "code",
   "execution_count": 4,
   "id": "d9655b53-d4ab-42b4-bc2f-2bd6670fd086",
   "metadata": {},
   "outputs": [
    {
     "name": "stdout",
     "output_type": "stream",
     "text": [
      "📊 Simple AI powered CLI for working with Polars DataFrames 📊\n",
      "\n",
      "Usage: polars-ai [OPTIONS] [COMMAND]\n",
      "\n",
      "Commands:\n",
      "  input  Subcommand for handling input operations\n",
      "  help   Print this message or the help of the given subcommand(s)\n",
      "\n",
      "Options:\n",
      "  -d, --debug...  Turn debugging information on\n",
      "  -h, --help      Print help\n",
      "  -V, --version   Print version\n"
     ]
    },
    {
     "data": {
      "text/plain": [
       "()"
      ]
     },
     "execution_count": 4,
     "metadata": {},
     "output_type": "execute_result"
    }
   ],
   "source": [
    "let command = \"../target/release/polars-ai help\";\n",
    "\n",
    "if let Err(err) = execute_command(command) {\n",
    "    eprintln!(\"Error executing command: {}\", err);\n",
    "}"
   ]
  },
  {
   "cell_type": "code",
   "execution_count": 5,
   "id": "386dc45f-0dd5-4f8f-a6e8-f0877a913a33",
   "metadata": {},
   "outputs": [
    {
     "name": "stdout",
     "output_type": "stream",
     "text": [
      "\u001b[1;92m📊 DataFrame:\u001b[0m\n",
      "\u001b[1;94mshape: (18, 7)\n",
      "┌────────────┬───────────┬─────────┬─────────────────┬───────────────┬──────────┬──────────┐\n",
      "│ DayofMonth ┆ DayOfWeek ┆ Carrier ┆ OriginAirportID ┆ DestAirportID ┆ DepDelay ┆ ArrDelay │\n",
      "│ ---        ┆ ---       ┆ ---     ┆ ---             ┆ ---           ┆ ---      ┆ ---      │\n",
      "│ i64        ┆ i64       ┆ str     ┆ i64             ┆ i64           ┆ i64      ┆ i64      │\n",
      "╞════════════╪═══════════╪═════════╪═════════════════╪═══════════════╪══════════╪══════════╡\n",
      "│ 19         ┆ 5         ┆ DL      ┆ 11433           ┆ 13303         ┆ -3       ┆ 1        │\n",
      "│ 19         ┆ 5         ┆ DL      ┆ 14869           ┆ 12478         ┆ 0        ┆ -8       │\n",
      "│ 19         ┆ 5         ┆ DL      ┆ 14057           ┆ 14869         ┆ -4       ┆ -15      │\n",
      "│ 19         ┆ 5         ┆ DL      ┆ 15016           ┆ 11433         ┆ 28       ┆ 24       │\n",
      "│ …          ┆ …         ┆ …       ┆ …               ┆ …             ┆ …        ┆ …        │\n",
      "│ 19         ┆ 5         ┆ DL      ┆ 10397           ┆ 12451         ┆ 71       ┆ null     │\n",
      "│ 19         ┆ 5         ┆ DL      ┆ 12451           ┆ 10397         ┆ 75       ┆ null     │\n",
      "│ 19         ┆ 5         ┆ DL      ┆ 12953           ┆ 10397         ┆ -1       ┆ null     │\n",
      "│ 19         ┆ 5         ┆ DL      ┆ 11433           ┆ 12953         ┆ -3       ┆ null     │\n",
      "└────────────┴───────────┴─────────┴─────────────────┴───────────────┴──────────┴──────────┘\u001b[0m\n"
     ]
    },
    {
     "data": {
      "text/plain": [
       "()"
      ]
     },
     "execution_count": 5,
     "metadata": {},
     "output_type": "execute_result"
    }
   ],
   "source": [
    "let command = \"../target/release/polars-ai input -f datasets/flights.csv show\";\n",
    "\n",
    "if let Err(err) = execute_command(command) {\n",
    "    eprintln!(\"Error executing command: {}\", err);\n",
    "}"
   ]
  },
  {
   "cell_type": "code",
   "execution_count": 7,
   "id": "3ae9be08-6953-4c1c-975c-69b84eac4b5d",
   "metadata": {},
   "outputs": [
    {
     "name": "stdout",
     "output_type": "stream",
     "text": [
      "\n",
      "🤖 AI Response:\n",
      "\n",
      "use polars::frame::DataFrame;\n",
      "use polars::prelude::*;\n",
      "\n",
      "fn analyze_data(dfs: Vec<DataFrame>) -> DataFrame {\n",
      "    let df = &dfs[0];\n",
      "\n",
      "    let avg_first_column = df\n",
      "        .select(&[col(\"DayofMonth\").mean()])\n",
      "        .unwrap();\n",
      "\n",
      "    let top_carriers = df\n",
      "        .groupby(&[col(\"Carrier\")])\n",
      "        .expect(\"Columns must exist!\")\n",
      "        .mean()\n",
      "        .unwrap()\n",
      "        .sort(&[col(\"mean\")], false)\n",
      "        .expect(\"mean must exist\")\n",
      "        .head(Some(5))\n",
      "        .select(&[col(\"Carrier\")])\n",
      "        .unwrap();\n",
      "\n",
      "    let result_df = df\n",
      "        .join(&top_carriers, &[col(\"Carrier\")], &[col(\"Carrier\")], JoinType::Inner)\n",
      "        .expect(\"Carrier must exist\")\n",
      "        .sort(&[col(\"DayofMonth\")], false)\n",
      "        .expect(\"DayofMonth must exist\")\n",
      "        .head(Some(5));\n",
      "\n",
      "    result_df\n",
      "        .select(&[col(\"DayofMonth\"), col(\"DayOfWeek\")])\n",
      "        .unwrap()\n",
      "}\n",
      "\n",
      "fn main() {\n",
      "    let df = DataFrame::new(vec![\n",
      "        Series::new(vec![19, 19, 19, 19, 19, 19, 19, 19]),\n",
      "        Series::new(vec![5, 5, 5, 5, 5, 5, 5, 5]),\n",
      "        Series::new(vec![\"DL\", \"DL\", \"DL\", \"DL\", \"DL\", \"DL\", \"DL\", \"DL\"]),\n",
      "        Series::new(vec![11433, 14869, 14057, 15016, 10397, 12451, 12953, 11433]),\n",
      "        Series::new(vec![13303, 12478, 14869, 11433, 12451, 10397, 10397, 12953]),\n",
      "        Series::new(vec![-3, 0, -4, 28, 71, 75, -1, -3]),\n",
      "        Series::new(vec![1, -8, -15, 24, null, null, null, null]),\n",
      "    ])\n",
      "    .unwrap();\n",
      "\n",
      "    let result = analyze_data(vec![df]);\n",
      "    println!(\"{}\", result);\n",
      "}\n",
      "\n"
     ]
    },
    {
     "data": {
      "text/plain": [
       "()"
      ]
     },
     "execution_count": 7,
     "metadata": {},
     "output_type": "execute_result"
    }
   ],
   "source": [
    "let command = \"OPENAI_API_KEY=sk- ../target/release/polars-ai input -f datasets/flights.csv ask -q 'What is the average of the first column?'\";\n",
    "\n",
    "if let Err(err) = execute_command(command) {\n",
    "    eprintln!(\"Error executing command: {}\", err);\n",
    "}"
   ]
  },
  {
   "cell_type": "markdown",
   "id": "9c2e55ad-53bc-4296-a9e0-a25cd07061b5",
   "metadata": {},
   "source": [
    "## TODO: Polars AI"
   ]
  },
  {
   "cell_type": "code",
   "execution_count": null,
   "id": "0e2b6c7d-67d1-495a-995d-a20a8701826e",
   "metadata": {},
   "outputs": [],
   "source": [
    "use polars_ai::dataframe::AIDataFrame;"
   ]
  },
  {
   "cell_type": "code",
   "execution_count": null,
   "id": "30311577-5419-401f-9115-70c667a43b66",
   "metadata": {},
   "outputs": [],
   "source": [
    "let mut ai_df = AIDataFrame::new(polars_df);"
   ]
  },
  {
   "cell_type": "code",
   "execution_count": null,
   "id": "a4f9b831-f836-41c2-bf2d-02879d62db65",
   "metadata": {},
   "outputs": [],
   "source": [
    "let command = \"export OPENAI_API_KEY=sk-\";\n",
    "\n",
    "if let Err(err) = execute_command(command) {\n",
    "    eprintln!(\"Error executing command: {}\", err);\n",
    "}\n",
    "let result = ai_df.ask(\"What is the average of the first column?\").await.unwrap();\n",
    "result"
   ]
  },
  {
   "cell_type": "code",
   "execution_count": null,
   "id": "a54cd22d-b4a6-4f1b-8ba4-f16265c52919",
   "metadata": {},
   "outputs": [],
   "source": [
    "use polars_ai::utils::display_ai_response;"
   ]
  },
  {
   "cell_type": "code",
   "execution_count": null,
   "id": "1034187c-6bdd-4189-a4a7-07154fc19ac8",
   "metadata": {},
   "outputs": [],
   "source": [
    "display_ai_response(&result);"
   ]
  },
  {
   "cell_type": "code",
   "execution_count": null,
   "id": "99893e73-6797-45d5-b7b4-d9806991a8ce",
   "metadata": {},
   "outputs": [],
   "source": [
    "use polars_ai::utils::display_dataframe;"
   ]
  },
  {
   "cell_type": "code",
   "execution_count": null,
   "id": "74183d35-32a3-4a0b-b9bb-fa0a42701c35",
   "metadata": {},
   "outputs": [],
   "source": [
    "display_dataframe(&df, false);"
   ]
  },
  {
   "cell_type": "code",
   "execution_count": null,
   "id": "06091510-174f-49d9-b0b2-1ab6e9a468b5",
   "metadata": {},
   "outputs": [],
   "source": [
    "ai_df.shape()"
   ]
  },
  {
   "cell_type": "code",
   "execution_count": null,
   "id": "b5d11414-1085-4b38-8feb-1aa592d3bcd4",
   "metadata": {},
   "outputs": [],
   "source": [
    "ai_df.width()"
   ]
  },
  {
   "cell_type": "code",
   "execution_count": null,
   "id": "dff54e55-f853-4b34-8f23-b896b4eed716",
   "metadata": {},
   "outputs": [],
   "source": [
    "ai_df.height()"
   ]
  },
  {
   "cell_type": "code",
   "execution_count": null,
   "id": "9941676c-0d32-4457-9671-b08cd18a3cb2",
   "metadata": {},
   "outputs": [],
   "source": [
    "ai_df.select(&[\"DayofMonth\".to_string()])"
   ]
  }
 ],
 "metadata": {
  "kernelspec": {
   "display_name": "Rust",
   "language": "rust",
   "name": "rust"
  },
  "language_info": {
   "codemirror_mode": "rust",
   "file_extension": ".rs",
   "mimetype": "text/rust",
   "name": "Rust",
   "pygment_lexer": "rust",
   "version": ""
  }
 },
 "nbformat": 4,
 "nbformat_minor": 5
}
